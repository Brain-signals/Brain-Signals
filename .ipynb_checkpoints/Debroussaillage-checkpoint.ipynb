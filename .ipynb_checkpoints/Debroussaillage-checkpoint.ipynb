{
 "cells": [
  {
   "cell_type": "markdown",
   "id": "4b554a82",
   "metadata": {},
   "source": [
    "## Exploration data"
   ]
  },
  {
   "cell_type": "markdown",
   "id": "5b56fb68",
   "metadata": {},
   "source": [
    "Imports"
   ]
  },
  {
   "cell_type": "code",
   "execution_count": 1,
   "id": "40a12995",
   "metadata": {
    "ExecuteTime": {
     "end_time": "2022-05-30T10:39:45.511763Z",
     "start_time": "2022-05-30T10:39:35.152912Z"
    }
   },
   "outputs": [],
   "source": [
    "import pandas as pd\n",
    "import nibabel as nib\n",
    "import numpy as np\n",
    "import matplotlib.pyplot as plt"
   ]
  },
  {
   "cell_type": "markdown",
   "id": "1d0be522",
   "metadata": {},
   "source": [
    "### Parkinson Datasets"
   ]
  },
  {
   "cell_type": "code",
   "execution_count": null,
   "id": "2eb7f647",
   "metadata": {},
   "outputs": [],
   "source": [
    "test_load = nib.load('MRI_PD/Vanicek_etal_MRI_data/Control/c_01_data_brain.nii').get_fdata()\n",
    "test_load.shape"
   ]
  },
  {
   "cell_type": "code",
   "execution_count": null,
   "id": "81749ef0",
   "metadata": {},
   "outputs": [],
   "source": [
    "test = test_load[:,:,30,25]\n",
    "plt.imshow(test)\n",
    "plt.show()"
   ]
  },
  {
   "cell_type": "markdown",
   "id": "ae93cc29",
   "metadata": {},
   "source": [
    "### Second Parkinson Disease Dataset (sagittal cut)"
   ]
  },
  {
   "cell_type": "code",
   "execution_count": null,
   "id": "b7d3fae8",
   "metadata": {},
   "outputs": [],
   "source": [
    "test_load_6 = nib.load('/Users/lison/Downloads/ds000245_R1.0.0/sub-ODN01/anat/sub-ODN01_T1w.nii').get_fdata()\n",
    "test_load_6.shape"
   ]
  },
  {
   "cell_type": "code",
   "execution_count": null,
   "id": "b463a175",
   "metadata": {},
   "outputs": [],
   "source": [
    "test = test_load_6[130,:,:]\n",
    "plt.imshow(test)\n",
    "plt.show()"
   ]
  },
  {
   "cell_type": "markdown",
   "id": "31b65342",
   "metadata": {},
   "source": [
    "### Pour format HDR"
   ]
  },
  {
   "cell_type": "code",
   "execution_count": null,
   "id": "00295fd9",
   "metadata": {},
   "outputs": [],
   "source": [
    "import imageio\n",
    "# The following line only needs to run once for a user\n",
    "# to download the necessary binaries to read HDR.\n",
    "imageio.plugins.freeimage.download()\n"
   ]
  },
  {
   "cell_type": "code",
   "execution_count": null,
   "id": "0ef99675",
   "metadata": {},
   "outputs": [],
   "source": [
    "img = imageio.imread('PTSD/doi_10.7272_Q6RN35SZ__v6/subj20676211005045/tp1/mrMPT1raw/MP-Raw16_M20676211005045.hdr', 'ITK')"
   ]
  },
  {
   "cell_type": "code",
   "execution_count": null,
   "id": "cfb3a18b",
   "metadata": {},
   "outputs": [],
   "source": [
    "filename = 'PTSD/doi_10.7272_Q6RN35SZ__v6/subj20676211005045/tp1/mrMPT1raw/MP-Raw16_M20676211005045.img' \n",
    "\n",
    "# set width and height \n",
    "w, h = 1024, 1024 \n",
    "\n",
    "with open(filename, 'rb') as f: \n",
    "    # Seek backwards from end of file by 2 bytes per pixel \n",
    "    f.seek(-w*h*2, 2) \n",
    "    img = np.fromfile(f, dtype=np.uint16).reshape((h,w)) \n",
    "\n",
    "# Save as PNG, and retain 16-bit resolution\n",
    "Image.fromarray(img).save('PTSD/doi_10.7272_Q6RN35SZ__v6/subj20676211005045/tp1/mrMPT1raw/result.png')\n",
    "\n",
    "# Alternative to line above - save as JPEG, but lose 16-bit resolution\n",
    "#Image.fromarray((img>>8).astype(np.uint8)).save('result.jpg') "
   ]
  },
  {
   "cell_type": "markdown",
   "id": "1b1100f4",
   "metadata": {},
   "source": [
    "### Multiple Sclerosis Dataset (MRI_MS)"
   ]
  },
  {
   "cell_type": "code",
   "execution_count": null,
   "id": "975fa523",
   "metadata": {},
   "outputs": [],
   "source": [
    "test_load_2 = nib.load('MRI_MS/dataset/Patient-1/1-T1.nii').get_fdata()\n",
    "test_load_2.shape"
   ]
  },
  {
   "cell_type": "code",
   "execution_count": null,
   "id": "3eb669d7",
   "metadata": {},
   "outputs": [],
   "source": [
    "test = test_load_2[:,:,12]\n",
    "plt.imshow(test)\n",
    "plt.show()"
   ]
  },
  {
   "cell_type": "markdown",
   "id": "8d79150b",
   "metadata": {},
   "source": [
    "Control Dataset (sagittal cut)"
   ]
  },
  {
   "cell_type": "code",
   "execution_count": null,
   "id": "3ff97b41",
   "metadata": {},
   "outputs": [],
   "source": [
    "test_load_7 = nib.load('/Users/lison/Downloads/ds000240_R1.0.0/sub-01/anat/sub-01_T1w.nii').get_fdata()\n",
    "test_load_7.shape"
   ]
  },
  {
   "cell_type": "code",
   "execution_count": null,
   "id": "9a1d5631",
   "metadata": {},
   "outputs": [],
   "source": [
    "test = test_load_7[110,:,:]\n",
    "plt.imshow(test)\n",
    "plt.show()"
   ]
  }
 ],
 "metadata": {
  "kernelspec": {
   "display_name": "Python 3 (ipykernel)",
   "language": "python",
   "name": "python3"
  },
  "language_info": {
   "codemirror_mode": {
    "name": "ipython",
    "version": 3
   },
   "file_extension": ".py",
   "mimetype": "text/x-python",
   "name": "python",
   "nbconvert_exporter": "python",
   "pygments_lexer": "ipython3",
   "version": "3.8.13"
  },
  "toc": {
   "base_numbering": 1,
   "nav_menu": {},
   "number_sections": true,
   "sideBar": true,
   "skip_h1_title": false,
   "title_cell": "Table of Contents",
   "title_sidebar": "Contents",
   "toc_cell": false,
   "toc_position": {},
   "toc_section_display": true,
   "toc_window_display": false
  },
  "varInspector": {
   "cols": {
    "lenName": 16,
    "lenType": 16,
    "lenVar": 40
   },
   "kernels_config": {
    "python": {
     "delete_cmd_postfix": "",
     "delete_cmd_prefix": "del ",
     "library": "var_list.py",
     "varRefreshCmd": "print(var_dic_list())"
    },
    "r": {
     "delete_cmd_postfix": ") ",
     "delete_cmd_prefix": "rm(",
     "library": "var_list.r",
     "varRefreshCmd": "cat(var_dic_list()) "
    }
   },
   "types_to_exclude": [
    "module",
    "function",
    "builtin_function_or_method",
    "instance",
    "_Feature"
   ],
   "window_display": false
  }
 },
 "nbformat": 4,
 "nbformat_minor": 5
}
